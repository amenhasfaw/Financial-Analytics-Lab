{
 "cells": [
  {
   "cell_type": "markdown",
   "metadata": {},
   "source": [
    "Create a portfolio optimization model that minimizes risk while maximizing returns, using R/Python."
   ]
  },
  {
   "cell_type": "code",
   "execution_count": 1,
   "metadata": {},
   "outputs": [
    {
     "name": "stderr",
     "output_type": "stream",
     "text": [
      "/Users/amenhasfaw/opt/anaconda3/envs/ML/lib/python3.9/site-packages/pandas/core/arrays/masked.py:60: UserWarning: Pandas requires version '1.3.6' or newer of 'bottleneck' (version '1.3.5' currently installed).\n",
      "  from pandas.core import (\n"
     ]
    }
   ],
   "source": [
    "import numpy as np\n",
    "import pandas as pd\n",
    "from scipy.optimize import minimize\n",
    "import matplotlib.pyplot as plt"
   ]
  },
  {
   "cell_type": "code",
   "execution_count": 2,
   "metadata": {},
   "outputs": [],
   "source": [
    "np.random.seed(42)\n",
    "num_assets = 4\n",
    "num_obs = 1000\n",
    "return_data = np.random.randn(num_obs, num_assets)\n",
    "returns = pd.DataFrame(return_data, columns=['Asset1','Asset2','Asset3','Asset4'])\n",
    "mean_returns = returns.mean()\n",
    "cov_matrix = returns.cov()\n",
    "risk_free_rate = 0.01"
   ]
  },
  {
   "cell_type": "code",
   "execution_count": 3,
   "metadata": {},
   "outputs": [
    {
     "name": "stdout",
     "output_type": "stream",
     "text": [
      "Optimal Weights: [0.38218949 0.27201422 0.         0.34579628]\n"
     ]
    }
   ],
   "source": [
    "def portfolio_performance(weights):\n",
    "    returns = np.sum(weights * mean_returns) * 252\n",
    "    std = np.sqrt(np.dot(weights.T, np.dot(cov_matrix, weights))) * np.sqrt(252)\n",
    "    return std, returns\n",
    "def negative_sharpe_ratio(weights):\n",
    "    std, ret = portfolio_performance(weights)\n",
    "    return -(ret - risk_free_rate) / std\n",
    "\n",
    "constraints = {'type': 'eq','fun': lambda weights: np.sum(weights) - 1}\n",
    "bounds = tuple((0, 1) for _ in range(num_assets))\n",
    "initial_weights = num_assets * [1. / num_assets]\n",
    "optimal_sharpe = minimize(negative_sharpe_ratio, initial_weights, method=\"SLSQP\",\n",
    "bounds=bounds, constraints=constraints)\n",
    "\n",
    "print(\"Optimal Weights:\", optimal_sharpe.x)"
   ]
  }
 ],
 "metadata": {
  "kernelspec": {
   "display_name": "ML",
   "language": "python",
   "name": "python3"
  },
  "language_info": {
   "codemirror_mode": {
    "name": "ipython",
    "version": 3
   },
   "file_extension": ".py",
   "mimetype": "text/x-python",
   "name": "python",
   "nbconvert_exporter": "python",
   "pygments_lexer": "ipython3",
   "version": "3.9.16"
  }
 },
 "nbformat": 4,
 "nbformat_minor": 2
}
