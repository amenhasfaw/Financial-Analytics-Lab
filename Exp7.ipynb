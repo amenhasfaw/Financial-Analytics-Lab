{
 "cells": [
  {
   "cell_type": "markdown",
   "metadata": {},
   "source": [
    "Analyze the performance of a portfolio of stocks by calculating the Sharpe ratio, Sortino ratio, and Treynor ratio."
   ]
  },
  {
   "cell_type": "code",
   "execution_count": 1,
   "metadata": {},
   "outputs": [],
   "source": [
    "import yfinance as yf\n",
    "import numpy as np\n",
    "import pandas as pd\n",
    "import scipy.stats as stats"
   ]
  },
  {
   "cell_type": "code",
   "execution_count": 2,
   "metadata": {},
   "outputs": [],
   "source": [
    "# Step 1: Define portfolio stocks and weights\n",
    "tickers = ['AAPL', 'MSFT', 'GOOGL'] # Example stock tickers\n",
    "weights = np.array([0.4, 0.4, 0.2]) # Portfolio weights"
   ]
  },
  {
   "cell_type": "code",
   "execution_count": 3,
   "metadata": {},
   "outputs": [
    {
     "name": "stdout",
     "output_type": "stream",
     "text": [
      "[*********************100%%**********************]  3 of 3 completed\n"
     ]
    }
   ],
   "source": [
    "# Step 2: Download historical data\n",
    "data = yf.download(tickers, start='2023-01-01', end='2023-08-01')['Adj Close']"
   ]
  },
  {
   "cell_type": "code",
   "execution_count": 4,
   "metadata": {},
   "outputs": [],
   "source": [
    "# Step 3: Calculate daily returns and portfolio returns\n",
    "returns = data.pct_change().dropna()\n",
    "portfolio_returns = returns.dot(weights)"
   ]
  },
  {
   "cell_type": "code",
   "execution_count": 5,
   "metadata": {},
   "outputs": [
    {
     "name": "stdout",
     "output_type": "stream",
     "text": [
      "[*********************100%%**********************]  1 of 1 completed\n"
     ]
    }
   ],
   "source": [
    "# Step 4: Calculate metrics\n",
    "\n",
    "# Risk-free rate (assumed, e.g., 2% annualized risk-free rate)\n",
    "risk_free_rate = 0.02 / 252 # Convert annual to daily\n",
    "\n",
    "# Sharpe Ratio\n",
    "excess_return = portfolio_returns.mean() - risk_free_rate\n",
    "sharpe_ratio = excess_return / portfolio_returns.std()\n",
    "\n",
    "# Sortino Ratio\n",
    "downside_returns = portfolio_returns[portfolio_returns < 0]\n",
    "sortino_ratio = excess_return / downside_returns.std()\n",
    "\n",
    "# Treynor Ratio\n",
    "market_data = yf.download('^GSPC', start='2023-01-01', end='2023-08-01')['Adj Close']\n",
    "market_returns = market_data.pct_change().dropna()\n",
    "beta = np.cov(portfolio_returns, market_returns)[0, 1] / np.var(market_returns)\n",
    "treynor_ratio = excess_return / beta"
   ]
  },
  {
   "cell_type": "code",
   "execution_count": 6,
   "metadata": {},
   "outputs": [
    {
     "name": "stdout",
     "output_type": "stream",
     "text": [
      "Sharpe Ratio: 0.2038\n",
      "Sortino Ratio: 0.3738\n",
      "Treynor Ratio: 0.0023\n"
     ]
    }
   ],
   "source": [
    "# Step 5: Print the results\n",
    "print(f\"Sharpe Ratio: {sharpe_ratio:.4f}\")\n",
    "print(f\"Sortino Ratio: {sortino_ratio:.4f}\")\n",
    "print(f\"Treynor Ratio: {treynor_ratio:.4f}\")"
   ]
  }
 ],
 "metadata": {
  "kernelspec": {
   "display_name": "base",
   "language": "python",
   "name": "python3"
  },
  "language_info": {
   "codemirror_mode": {
    "name": "ipython",
    "version": 3
   },
   "file_extension": ".py",
   "mimetype": "text/x-python",
   "name": "python",
   "nbconvert_exporter": "python",
   "pygments_lexer": "ipython3",
   "version": "3.9.7"
  }
 },
 "nbformat": 4,
 "nbformat_minor": 2
}
