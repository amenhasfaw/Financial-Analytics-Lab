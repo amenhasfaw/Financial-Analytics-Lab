{
 "cells": [
  {
   "cell_type": "markdown",
   "metadata": {},
   "source": [
    "Calculate the Value at Risk (VaR) for a portfolio of stocks using R/Python."
   ]
  },
  {
   "cell_type": "code",
   "execution_count": 1,
   "metadata": {},
   "outputs": [],
   "source": [
    "import yfinance as yf\n",
    "import numpy as np\n",
    "import pandas as pd\n",
    "import scipy.stats as stats"
   ]
  },
  {
   "cell_type": "code",
   "execution_count": 2,
   "metadata": {},
   "outputs": [
    {
     "name": "stdout",
     "output_type": "stream",
     "text": [
      "[*********************100%%**********************]  3 of 3 completed\n"
     ]
    }
   ],
   "source": [
    "# Portfolio stocks and weights\n",
    "tickers = ['AAPL', 'MSFT', 'GOOGL'] # Example stock tickers\n",
    "weights = np.array([0.4, 0.4, 0.2]) # Portfolio weights\n",
    "\n",
    "# Download historical data\n",
    "data = yf.download(tickers, start='2023-01-01', end='2023-08-01')['Adj Close']"
   ]
  },
  {
   "cell_type": "code",
   "execution_count": 3,
   "metadata": {},
   "outputs": [],
   "source": [
    "# Calculate daily returns\n",
    "returns = data.pct_change().dropna()\n",
    "\n",
    "# Calculate portfolio returns\n",
    "portfolio_returns = returns.dot(weights)"
   ]
  },
  {
   "cell_type": "code",
   "execution_count": 4,
   "metadata": {},
   "outputs": [],
   "source": [
    "# Portfolio mean and standard deviation\n",
    "mean_return = portfolio_returns.mean()\n",
    "std_dev = portfolio_returns.std()\n",
    "\n",
    "# Set confidence level and z-score\n",
    "confidence_level = 0.95\n",
    "z_score = stats.norm.ppf(1 - confidence_level)\n",
    "\n",
    "# Calculate Value at Risk (VaR)\n",
    "VaR = -z_score * std_dev - mean_return\n",
    "\n",
    "# Convert to a percentage\n",
    "VaR_percentage = VaR * 100"
   ]
  },
  {
   "cell_type": "code",
   "execution_count": 5,
   "metadata": {},
   "outputs": [
    {
     "name": "stdout",
     "output_type": "stream",
     "text": [
      "Value at Risk (VaR) at 95.0% confidence level: 0.0207\n",
      "Value at Risk (VaR) as a percentage of the portfolio: 2.07%\n"
     ]
    }
   ],
   "source": [
    "print(f\"Value at Risk (VaR) at {confidence_level*100}% confidence level: {VaR:.4f}\")\n",
    "print(f\"Value at Risk (VaR) as a percentage of the portfolio: {VaR_percentage:.2f}%\")"
   ]
  }
 ],
 "metadata": {
  "kernelspec": {
   "display_name": "base",
   "language": "python",
   "name": "python3"
  },
  "language_info": {
   "codemirror_mode": {
    "name": "ipython",
    "version": 3
   },
   "file_extension": ".py",
   "mimetype": "text/x-python",
   "name": "python",
   "nbconvert_exporter": "python",
   "pygments_lexer": "ipython3",
   "version": "3.9.7"
  }
 },
 "nbformat": 4,
 "nbformat_minor": 2
}
